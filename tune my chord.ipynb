{
 "cells": [
  {
   "cell_type": "markdown",
   "metadata": {},
   "source": [
    "# Barbershop chord tuner\n",
    "*April '17 - Alex Moore*"
   ]
  },
  {
   "cell_type": "code",
   "execution_count": 1,
   "metadata": {},
   "outputs": [],
   "source": [
    "from tuner import *"
   ]
  },
  {
   "cell_type": "markdown",
   "metadata": {},
   "source": [
    "*Call*\n",
    "`tune(bass_note, baritone_note, lead_note, tenor_note)`,\n",
    "*using, eg, fx to denote F sharp and eb to denote E flat.*\n",
    "\n",
    "Note the equivalence (in equal temperament) of the maj 6th (eg C, E, G, A) and the minor 7th (eg, A, C, E, G). The former is tuned as a major triad with the 6th tuned a 4th above the 3rd, while the latter is tuned with a flat 7th (-31) and a flat minor 3rd (-33).\n"
   ]
  },
  {
   "cell_type": "code",
   "execution_count": 2,
   "metadata": {},
   "outputs": [
    {
     "name": "stdout",
     "output_type": "stream",
     "text": [
      "Eb maj2x5, \n",
      "[0, -15, '5th', -2]\n"
     ]
    }
   ],
   "source": [
    "tune(bb,g,bb,eb)"
   ]
  },
  {
   "cell_type": "code",
   "execution_count": 3,
   "metadata": {},
   "outputs": [
    {
     "data": {
      "text/plain": [
       "'Chord not found'"
      ]
     },
     "execution_count": 3,
     "metadata": {},
     "output_type": "execute_result"
    }
   ],
   "source": [
    "tune(c,fx,bb,e)"
   ]
  },
  {
   "cell_type": "code",
   "execution_count": 4,
   "metadata": {},
   "outputs": [
    {
     "name": "stdout",
     "output_type": "stream",
     "text": [
      "chinese 7th!\n",
      "E dom7, \n",
      "[33, 18, '7th', 31]\n"
     ]
    }
   ],
   "source": [
    "tune(B,Gx,D,E)"
   ]
  },
  {
   "cell_type": "code",
   "execution_count": null,
   "metadata": {},
   "outputs": [],
   "source": [
    "echo \"# barbershop\" >> README.md\n",
    "git init\n",
    "git add README.md\n",
    "git commit -m \"first commit\"\n",
    "git remote add origin https://github.com/awm11/barbershop.git\n",
    "git push -u origin master"
   ]
  }
 ],
 "metadata": {
  "kernelspec": {
   "display_name": "Python [conda env:Python3]",
   "language": "python",
   "name": "conda-env-Python3-py"
  },
  "language_info": {
   "codemirror_mode": {
    "name": "ipython",
    "version": 3
   },
   "file_extension": ".py",
   "mimetype": "text/x-python",
   "name": "python",
   "nbconvert_exporter": "python",
   "pygments_lexer": "ipython3",
   "version": "3.6.6"
  }
 },
 "nbformat": 4,
 "nbformat_minor": 2
}
